{
  "nbformat": 4,
  "nbformat_minor": 0,
  "metadata": {
    "colab": {
      "provenance": []
    },
    "kernelspec": {
      "name": "python3",
      "display_name": "Python 3"
    },
    "language_info": {
      "name": "python"
    }
  },
  "cells": [
    {
      "cell_type": "code",
      "execution_count": 1,
      "metadata": {
        "id": "EpYT7Ycr6uL7"
      },
      "outputs": [],
      "source": [
        "import numpy as np"
      ]
    },
    {
      "cell_type": "code",
      "source": [
        "i1= 0.05\n",
        "i2 =0.10\n",
        "w1, w2, w3, w4 = np.random.uniform(-0.5, 0.5, 4)\n",
        "print(f\"Initialized weights: w1={w1:.8f}, w2={w2:.8f}, w3={w3:.8f}, w4={w4:.8f}\")\n",
        "w5, w6, w7, w8 = np.random.uniform(-0.5, 0.5, 4)\n",
        "print(f\"Initialized weights: w5={w5:.8f}, w6={w6:.8f}, w7={w7:.8f}, w8={w8:.8f}\")\n",
        "b1 = 0.5\n",
        "b2 = 0.7\n",
        "print(f\"Bias values: b1={b1}, b2={b2}\\n\")"
      ],
      "metadata": {
        "colab": {
          "base_uri": "https://localhost:8080/"
        },
        "id": "N6psCa0f64Yf",
        "outputId": "134a2499-4219-495b-f46f-b82a45034c8a"
      },
      "execution_count": 2,
      "outputs": [
        {
          "output_type": "stream",
          "name": "stdout",
          "text": [
            "Initialized weights: w1=-0.27288389, w2=0.26278075, w3=-0.30824413, w4=0.08820554\n",
            "Initialized weights: w5=-0.47095981, w6=-0.35658958, w7=0.46179035, w8=0.34179627\n",
            "Bias values: b1=0.5, b2=0.7\n",
            "\n"
          ]
        }
      ]
    },
    {
      "cell_type": "code",
      "source": [
        "net_h1 = (w1 * i1) + (w2 * i2) + b1\n",
        "net_h2 = (w3 * i1) + (w4 * i2) + b1\n",
        "print(f\"Computed net_h values: net_h1={net_h1:.8f}, net_h2={net_h2:.8f}\")"
      ],
      "metadata": {
        "colab": {
          "base_uri": "https://localhost:8080/"
        },
        "id": "xB_kRDtgCQLb",
        "outputId": "563ad228-81d5-46e4-de90-fb23be96681e"
      },
      "execution_count": 3,
      "outputs": [
        {
          "output_type": "stream",
          "name": "stdout",
          "text": [
            "Computed net_h values: net_h1=0.51263388, net_h2=0.49340835\n"
          ]
        }
      ]
    },
    {
      "cell_type": "code",
      "source": [
        "out_h1 = 1 / (1 + np.exp(-net_h1))\n",
        "out_h2 = 1 / (1 + np.exp(-net_h2))\n",
        "print(f\"Activated hidden layer outputs: out_h1={out_h1:.8f}, out_h2={out_h2:.8f}\")"
      ],
      "metadata": {
        "colab": {
          "base_uri": "https://localhost:8080/"
        },
        "id": "B3E7FWCDCh9h",
        "outputId": "008c68ac-558a-4326-cd4b-a3fa7089bc72"
      },
      "execution_count": 4,
      "outputs": [
        {
          "output_type": "stream",
          "name": "stdout",
          "text": [
            "Activated hidden layer outputs: out_h1=0.62542371, out_h2=0.62090902\n"
          ]
        }
      ]
    },
    {
      "cell_type": "code",
      "source": [
        "net_o1 = (w5 * out_h1) + (w6 * out_h2) + b2\n",
        "net_o2 = (w7 * out_h1) + (w8 * out_h2) + b2\n",
        "print(f\"Computed net_o values: net_o1={net_o1:.8f}, net_o2={net_o2:.8f}\")"
      ],
      "metadata": {
        "colab": {
          "base_uri": "https://localhost:8080/"
        },
        "id": "cqdoyesiDjat",
        "outputId": "7622499e-478f-45d8-d8ef-7ee6c8d509cb"
      },
      "execution_count": 5,
      "outputs": [
        {
          "output_type": "stream",
          "name": "stdout",
          "text": [
            "Computed net_o values: net_o1=0.18404088, net_o2=1.20103902\n"
          ]
        }
      ]
    },
    {
      "cell_type": "code",
      "source": [
        "out_o1 = 1 / (1 + np.exp(-net_o1))\n",
        "out_o2 = 1 / (1 + np.exp(-net_o2))\n",
        "print(f\"Activated output layer values: out_o1={out_o1:.8f}, out_o2={out_o2:.8f}\")"
      ],
      "metadata": {
        "colab": {
          "base_uri": "https://localhost:8080/"
        },
        "id": "LE8xC5OpE1XT",
        "outputId": "ce9c8e34-fb3d-4449-d726-bd392950b048"
      },
      "execution_count": 6,
      "outputs": [
        {
          "output_type": "stream",
          "name": "stdout",
          "text": [
            "Activated output layer values: out_o1=0.54588079, out_o2=0.76870957\n"
          ]
        }
      ]
    },
    {
      "cell_type": "code",
      "source": [
        "targets = np.array([0.01, 0.99])\n",
        "error1 = 0.5 * np.sum((targets[0] - out_o1) ** 2)\n",
        "error2 = 0.5 * np.sum((targets[1] - out_o2) ** 2)\n",
        "print(f\"Computed individual errors: error1={error1:.8f}, error2={error2:.8f}\")"
      ],
      "metadata": {
        "colab": {
          "base_uri": "https://localhost:8080/"
        },
        "id": "w5EYlZ9nFRzA",
        "outputId": "18700ab4-44d6-4321-9756-8ffacd4d0333"
      },
      "execution_count": 7,
      "outputs": [
        {
          "output_type": "stream",
          "name": "stdout",
          "text": [
            "Computed individual errors: error1=0.14358411, error2=0.02448473\n"
          ]
        }
      ]
    },
    {
      "cell_type": "code",
      "source": [
        "error = error1 + error2\n",
        "print(f\"Total error: {error:.8f}\\n\")"
      ],
      "metadata": {
        "colab": {
          "base_uri": "https://localhost:8080/"
        },
        "id": "nWp3YSSpGK-z",
        "outputId": "e06540e5-ba6e-42a0-f22b-5e18d0e17f17"
      },
      "execution_count": 8,
      "outputs": [
        {
          "output_type": "stream",
          "name": "stdout",
          "text": [
            "Total error: 0.16806884\n",
            "\n"
          ]
        }
      ]
    }
  ]
}