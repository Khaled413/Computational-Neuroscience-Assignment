{
  "nbformat": 4,
  "nbformat_minor": 0,
  "metadata": {
    "colab": {
      "provenance": []
    },
    "kernelspec": {
      "name": "python3",
      "display_name": "Python 3"
    },
    "language_info": {
      "name": "python"
    }
  },
  "cells": [
    {
      "cell_type": "code",
      "execution_count": 1,
      "metadata": {
        "id": "EpYT7Ycr6uL7"
      },
      "outputs": [],
      "source": [
        "import numpy as np"
      ]
    },
    {
      "cell_type": "code",
      "source": [
        "i1= 0.05\n",
        "i2 =0.10\n",
        "w1, w2, w3, w4 = np.random.uniform(-0.5, 0.5, 4)\n",
        "print(f\"w1: {w1:.8f}, w2: {w2:.8f}, w3: {w3:.8f}, w4: {w4:.8f}\")\n",
        "w5, w6, w7, w8 = np.random.uniform(-0.5, 0.5, 4)\n",
        "print(f\"w5: {w5:.8f}, w6: {w6:.8f}, w7: {w7:.8f}, w8: {w8:.8f}\")\n",
        "b1 = 0.5\n",
        "b2 = 0.7"
      ],
      "metadata": {
        "colab": {
          "base_uri": "https://localhost:8080/"
        },
        "id": "N6psCa0f64Yf",
        "outputId": "b0ac2228-e2b0-426e-a208-50c144df0043"
      },
      "execution_count": 2,
      "outputs": [
        {
          "output_type": "stream",
          "name": "stdout",
          "text": [
            "w1: -0.12291676, w2: -0.31870136, w3: -0.34009708, w4: -0.37757496\n",
            "w5: -0.25958112, w6: -0.22924187, w7: 0.19305200, w8: -0.29510931\n"
          ]
        }
      ]
    },
    {
      "cell_type": "code",
      "source": [
        "net_h1 = (w1 * i1) + (w2 * i2) + b1\n",
        "net_h2 = (w3 * i1) + (w4 * i2) + b1\n",
        "print(f\"net_h1: {net_h1:.8f}, net_h2: {net_h2:.8f}\\n\")"
      ],
      "metadata": {
        "colab": {
          "base_uri": "https://localhost:8080/"
        },
        "id": "xB_kRDtgCQLb",
        "outputId": "e18ebb6f-18d6-49e1-c171-2b79ee987a5e"
      },
      "execution_count": 3,
      "outputs": [
        {
          "output_type": "stream",
          "name": "stdout",
          "text": [
            "net_h1: 0.46198403, net_h2: 0.44523765\n",
            "\n"
          ]
        }
      ]
    },
    {
      "cell_type": "code",
      "source": [
        "out_h1=1/(1+np.exp(-net_h1))\n",
        "out_h2=1/(1+np.exp(-net_h2))\n",
        "print(f\"out_h1: {out_h1:.8f}, out_h2: {out_h1:.8f}\\n\")"
      ],
      "metadata": {
        "colab": {
          "base_uri": "https://localhost:8080/"
        },
        "id": "B3E7FWCDCh9h",
        "outputId": "6076b668-10bb-4a1d-8304-7fadbc7880d0"
      },
      "execution_count": 4,
      "outputs": [
        {
          "output_type": "stream",
          "name": "stdout",
          "text": [
            "out_h1: 0.61348474, out_h2: 0.61348474\n",
            "\n"
          ]
        }
      ]
    },
    {
      "cell_type": "code",
      "source": [
        "net_o1 = (w5 * out_h1) + (w6 * out_h2) + b2\n",
        "net_o2 = (w7 * out_h1) + (w8 * out_h2) + b2\n",
        "print(f\"net_o1: {net_o1:.8f}, net_o2: {net_o2:.8f}\\n\")"
      ],
      "metadata": {
        "colab": {
          "base_uri": "https://localhost:8080/"
        },
        "id": "cqdoyesiDjat",
        "outputId": "b5f66eb4-3969-43f7-9722-a60e038bd511"
      },
      "execution_count": 5,
      "outputs": [
        {
          "output_type": "stream",
          "name": "stdout",
          "text": [
            "net_o1: 0.40102657, net_o2: 0.63856346\n",
            "\n"
          ]
        }
      ]
    },
    {
      "cell_type": "code",
      "source": [
        "out_o1=1/(1+np.exp(-net_h1))\n",
        "out_o2=1/(1+np.exp(-net_h1))\n",
        "print(f\"out_o1: {out_o1:.8f}, out_o2: {out_o2:.8f}\\n\")"
      ],
      "metadata": {
        "colab": {
          "base_uri": "https://localhost:8080/"
        },
        "id": "LE8xC5OpE1XT",
        "outputId": "e1cdd6e0-9bbd-43fc-cd2c-f57cc2ab34d5"
      },
      "execution_count": 6,
      "outputs": [
        {
          "output_type": "stream",
          "name": "stdout",
          "text": [
            "out_o1: 0.61348474, out_o2: 0.61348474\n",
            "\n"
          ]
        }
      ]
    },
    {
      "cell_type": "code",
      "source": [
        "targets = np.array([0.01, 0.99])\n",
        "error1 = 0.5 * np.sum((targets - out_o1) ** 2)\n",
        "error2 = 0.5 * np.sum((targets - out_o2) ** 2)\n",
        "print(f\"error1: {error1:.8f}, error2: {error2:.8f}\\n\")"
      ],
      "metadata": {
        "colab": {
          "base_uri": "https://localhost:8080/"
        },
        "id": "w5EYlZ9nFRzA",
        "outputId": "0d2cf500-a9f0-4b6f-d2be-364abd1a340b"
      },
      "execution_count": 7,
      "outputs": [
        {
          "output_type": "stream",
          "name": "stdout",
          "text": [
            "error1: 0.25297879, error2: 0.25297879\n",
            "\n"
          ]
        }
      ]
    },
    {
      "cell_type": "code",
      "source": [
        "error = error1 + error2\n",
        "print(f\"error: {error:.8f}\\n\")"
      ],
      "metadata": {
        "colab": {
          "base_uri": "https://localhost:8080/"
        },
        "id": "nWp3YSSpGK-z",
        "outputId": "8c48391f-06c7-47f5-d853-a216cf428c1b"
      },
      "execution_count": 8,
      "outputs": [
        {
          "output_type": "stream",
          "name": "stdout",
          "text": [
            "error: 0.50595757\n",
            "\n"
          ]
        }
      ]
    }
  ]
}
