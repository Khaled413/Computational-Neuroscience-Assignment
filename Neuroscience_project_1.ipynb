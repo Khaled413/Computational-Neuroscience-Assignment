{
  "nbformat": 4,
  "nbformat_minor": 0,
  "metadata": {
    "colab": {
      "provenance": []
    },
    "kernelspec": {
      "name": "python3",
      "display_name": "Python 3"
    },
    "language_info": {
      "name": "python"
    }
  },
  "cells": [
    {
      "cell_type": "code",
      "execution_count": 1,
      "metadata": {
        "id": "EpYT7Ycr6uL7"
      },
      "outputs": [],
      "source": [
        "import numpy as np"
      ]
    },
    {
      "cell_type": "code",
      "source": [
        "i1= 0.05\n",
        "i2 =0.10\n",
        "w1, w2, w3, w4 = np.random.uniform(-0.5, 0.5, 4)\n",
        "w5, w6, w7, w8 = np.random.uniform(-0.5, 0.5, 4)\n",
        "print(f\"Initialized weights:  w1={w1:.8f}, w2={w2:.8f}, w3={w3:.8f}, w4={w4:.8f}, w5={w5:.8f}, w6={w6:.8f}, w7={w7:.8f}, w8={w8:.8f}\")\n",
        "b1 = 0.5\n",
        "b2 = 0.7\n",
        "print(f\"Bias values: b1={b1}, b2={b2}\\n\")"
      ],
      "metadata": {
        "colab": {
          "base_uri": "https://localhost:8080/"
        },
        "id": "N6psCa0f64Yf",
        "outputId": "e454cd54-8b94-40ee-c697-c976186c78ba"
      },
      "execution_count": 2,
      "outputs": [
        {
          "output_type": "stream",
          "name": "stdout",
          "text": [
            "Initialized weights:  w1=-0.23010429, w2=0.10441698, w3=0.39483600, w4=-0.42417713, w5=0.20515497, w6=0.40786847, w7=-0.34303978, w8=-0.07566300\n",
            "Bias values: b1=0.5, b2=0.7\n",
            "\n"
          ]
        }
      ]
    },
    {
      "cell_type": "code",
      "source": [
        "net_h1 = (w1 * i1) + (w2 * i2) + b1\n",
        "net_h2 = (w3 * i1) + (w4 * i2) + b1\n",
        "print(f\"Computed net_h values: net_h1={net_h1:.8f}, net_h2={net_h2:.8f}\")"
      ],
      "metadata": {
        "colab": {
          "base_uri": "https://localhost:8080/"
        },
        "id": "xB_kRDtgCQLb",
        "outputId": "8681eef8-f31f-44d7-e135-a5a214b640a7"
      },
      "execution_count": 3,
      "outputs": [
        {
          "output_type": "stream",
          "name": "stdout",
          "text": [
            "Computed net_h values: net_h1=0.49893648, net_h2=0.47732409\n"
          ]
        }
      ]
    },
    {
      "cell_type": "code",
      "source": [
        "out_h1 = 1 / (1 + np.exp(-net_h1))\n",
        "out_h2 = 1 / (1 + np.exp(-net_h2))\n",
        "print(f\"Activated hidden layer outputs: out_h1={out_h1:.8f}, out_h2={out_h2:.8f}\")"
      ],
      "metadata": {
        "colab": {
          "base_uri": "https://localhost:8080/"
        },
        "id": "B3E7FWCDCh9h",
        "outputId": "afb24dc4-ea99-46b1-c819-dde093e5856f"
      },
      "execution_count": 4,
      "outputs": [
        {
          "output_type": "stream",
          "name": "stdout",
          "text": [
            "Activated hidden layer outputs: out_h1=0.62220937, out_h2=0.61711580\n"
          ]
        }
      ]
    },
    {
      "cell_type": "code",
      "source": [
        "net_o1 = (w5 * out_h1) + (w6 * out_h2) + b2\n",
        "net_o2 = (w7 * out_h1) + (w8 * out_h2) + b2\n",
        "print(f\"Computed net_o values: net_o1={net_o1:.8f}, net_o2={net_o2:.8f}\")"
      ],
      "metadata": {
        "colab": {
          "base_uri": "https://localhost:8080/"
        },
        "id": "cqdoyesiDjat",
        "outputId": "06e56d82-1a36-4217-d680-ad82d1062345"
      },
      "execution_count": 5,
      "outputs": [
        {
          "output_type": "stream",
          "name": "stdout",
          "text": [
            "Computed net_o values: net_o1=1.07935142, net_o2=0.43986460\n"
          ]
        }
      ]
    },
    {
      "cell_type": "code",
      "source": [
        "out_o1 = 1 / (1 + np.exp(-net_o1))\n",
        "out_o2 = 1 / (1 + np.exp(-net_o2))\n",
        "print(f\"Activated output layer values: out_o1={out_o1:.8f}, out_o2={out_o2:.8f}\")"
      ],
      "metadata": {
        "colab": {
          "base_uri": "https://localhost:8080/"
        },
        "id": "LE8xC5OpE1XT",
        "outputId": "28d2fd97-f265-4dd8-e998-7594c6096241"
      },
      "execution_count": 6,
      "outputs": [
        {
          "output_type": "stream",
          "name": "stdout",
          "text": [
            "Activated output layer values: out_o1=0.74637123, out_o2=0.60822677\n"
          ]
        }
      ]
    },
    {
      "cell_type": "code",
      "source": [
        "targets = np.array([0.01, 0.99])\n",
        "error1 = 0.5 * np.sum((targets[0] - out_o1) ** 2)\n",
        "error2 = 0.5 * np.sum((targets[1] - out_o2) ** 2)\n",
        "print(f\"Computed individual errors: error1={error1:.8f}, error2={error2:.8f}\")"
      ],
      "metadata": {
        "colab": {
          "base_uri": "https://localhost:8080/"
        },
        "id": "w5EYlZ9nFRzA",
        "outputId": "efab7244-f2aa-4fb4-f474-f1372c852b7c"
      },
      "execution_count": 7,
      "outputs": [
        {
          "output_type": "stream",
          "name": "stdout",
          "text": [
            "Computed individual errors: error1=0.27112129, error2=0.07287540\n"
          ]
        }
      ]
    },
    {
      "cell_type": "code",
      "source": [
        "error = error1 + error2\n",
        "print(f\"Total error: {error:.8f}\\n\")"
      ],
      "metadata": {
        "colab": {
          "base_uri": "https://localhost:8080/"
        },
        "id": "nWp3YSSpGK-z",
        "outputId": "259a8a66-c714-4bd5-a5f0-51b9579ebc08"
      },
      "execution_count": 8,
      "outputs": [
        {
          "output_type": "stream",
          "name": "stdout",
          "text": [
            "Total error: 0.34399669\n",
            "\n"
          ]
        }
      ]
    }
  ]
}